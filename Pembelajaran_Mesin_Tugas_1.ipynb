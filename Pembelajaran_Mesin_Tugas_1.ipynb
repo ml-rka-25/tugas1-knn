{
  "cells": [
    {
      "cell_type": "markdown",
      "metadata": {
        "id": "5TvxkjbpWAgY"
      },
      "source": [
        "  # 📌 Klasifikasi Wine Quality dengan KNN\n",
        "  Pada tugas ini, kita akan menggunakan Wine Quality Dataset. Dataset bisa diakses melalui link berikut:\\\n",
        "  🔗 https://www.kaggle.com/datasets/yasserh/wine-quality-dataset\n",
        "\n",
        "  Tujuan utama dari tugas ini adalah membangun model K-Nearest Neighbors (KNN) untuk mengklasifikasikan kualitas wine.\n",
        "\n",
        "  Langkah-langkah yang harus dilakukan antara lain:\n",
        "  1. Persiapan Dataset & Eksplorasi Awal\n",
        "  - Memuat dataset, melihat struktur data, dan distribusi label.\n",
        "  2. Preprocessing\n",
        "  - Memproses data agar siap untuk digunakan dalam membangun model.\n",
        "  3. Eksperimen Model KNN\n",
        "  - Bangun model KNN dengan mencoba beberapa nilai k (misalnya 3, 5, dan 7) serta dua metric jarak (seperti Euclidean dan Manhattan).\n",
        "  - Eksperimen ini bertujuan untuk membandingkan performa KNN dengan parameter yang berbeda.\n",
        "  4. Evaluasi Model\n",
        "  - Hitung metrik evaluasi seperti Accuracy, Precision, Recall, F1-Score, serta visualisasikan Confusion Matrix.\n",
        "  5. Analisis & Kesimpulan\n",
        "  - Bandingkan hasil antar eksperimen yang telah dilakukan dan berikan kesimpulan."
      ]
    },
    {
      "cell_type": "markdown",
      "metadata": {
        "id": "k8MVopOsaCvd"
      },
      "source": [
        "# 1. Persiapan Dataset & Eksplorasi Awal"
      ]
    },
    {
      "cell_type": "code",
      "execution_count": null,
      "metadata": {
        "id": "0295ImOJaa8V"
      },
      "outputs": [],
      "source": []
    },
    {
      "cell_type": "markdown",
      "metadata": {
        "id": "1T3txwSWaH_O"
      },
      "source": [
        "# 2. Preprocessing\n",
        "\n",
        "\n"
      ]
    },
    {
      "cell_type": "code",
      "execution_count": null,
      "metadata": {
        "id": "ZWFzLmj0abkV"
      },
      "outputs": [],
      "source": []
    },
    {
      "cell_type": "markdown",
      "metadata": {
        "id": "BQnVcvoEaK5Q"
      },
      "source": [
        "# 3. Eksperimen Model KNN\n"
      ]
    },
    {
      "cell_type": "code",
      "execution_count": null,
      "metadata": {
        "id": "xMYlXK-Fab_A"
      },
      "outputs": [],
      "source": []
    },
    {
      "cell_type": "markdown",
      "metadata": {
        "id": "9ewnwcqeaT-n"
      },
      "source": [
        "# 4. Evaluasi Model\n"
      ]
    },
    {
      "cell_type": "code",
      "execution_count": null,
      "metadata": {
        "id": "j_bv2-gsacRF"
      },
      "outputs": [],
      "source": []
    },
    {
      "cell_type": "markdown",
      "metadata": {
        "id": "xhTU6GlLaTeb"
      },
      "source": [
        "# 5. Analisis & Kesimpulan"
      ]
    },
    {
      "cell_type": "code",
      "execution_count": null,
      "metadata": {
        "id": "sPI1TkzUadvV"
      },
      "outputs": [],
      "source": []
    }
  ],
  "metadata": {
    "colab": {
      "provenance": []
    },
    "kernelspec": {
      "display_name": "Python 3",
      "name": "python3"
    },
    "language_info": {
      "name": "python"
    }
  },
  "nbformat": 4,
  "nbformat_minor": 0
}
